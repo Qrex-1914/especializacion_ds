{
 "cells": [
  {
   "cell_type": "markdown",
   "metadata": {},
   "source": [
    "# ejemplo de principio solid resolviendo la \"s\""
   ]
  },
  {
   "cell_type": "code",
   "execution_count": 32,
   "metadata": {},
   "outputs": [],
   "source": [
    "class Personajes:\n",
    "    def __init__(self, nombre:str, clase:str, salud:int, energia:int,daño:int):\n",
    "        self.nombre = nombre\n",
    "        self.clase = clase\n",
    "        self.salud = salud\n",
    "        self.energia = energia\n",
    "        self.daño=daño\n",
    "\n",
    "    def get_name(self):\n",
    "        return self.nombre\n",
    "\n",
    "    def resibir_ataque(self, cantidad_daño:int) -> int:\n",
    "        self.salud -= cantidad_daño\n",
    "        print(self.salud)\n",
    "\n",
    "    def mostrar_informacion(self):\n",
    "        return f\"Nombre: {self.nombre}, Clase: {self.clase}, Salud: {self.salud}, Energía: {self.energia}, Daño: {self.daño}\"\n",
    "\n",
    "    def atacar(self, objetivo:str):\n",
    "        if (self.energia > 10) and (self.salud > 0):\n",
    "            print(f\"{self.nombre} ataca a {objetivo.get_name()} con un golpe fuerte, la vida de {objetivo.get_name()} es\")\n",
    "            self.energia -= 10\n",
    "            objetivo.resibir_ataque(self.daño)\n",
    "        else:\n",
    "            print(f\"{self.nombre} no tiene suficiente energía para atacar.c\")"
   ]
  },
  {
   "cell_type": "markdown",
   "metadata": {},
   "source": [
    "En este ejemplo, la clase Personajes tiene dos responsabilidades:\n",
    "\n",
    "Manejar la información de los personajes del juego por turnos (nombre, clase, salud, energía).\n",
    "Lógica para realizar acciones en el juego, como atacar a otro personaje.\n",
    "Este diseño viola el principio de responsabilidad única porque la clase tiene más de una razón para cambiar. Si se agregan nuevas acciones o se cambian las reglas del juego, se necesitaría modificar esta clase, lo cual no es su responsabilidad principal.\n",
    "\n",
    "Una solución sería dividir estas responsabilidades en dos clases separadas: una para manejar la información de los personajes y otra para la lógica de las acciones en el juego. Esto haría que el código fuera más modular y fácil de mantener a medida que cambian los requisitos del juego."
   ]
  },
  {
   "cell_type": "code",
   "execution_count": 33,
   "metadata": {},
   "outputs": [
    {
     "name": "stdout",
     "output_type": "stream",
     "text": [
      "adan ataca a sam con un golpe fuerte, la vida de sam es\n",
      "60\n",
      "sam ataca a adan con un golpe fuerte, la vida de adan es\n",
      "75\n"
     ]
    }
   ],
   "source": [
    "adan=Personajes(nombre=\"adan\",clase=\"guerrero\", salud=100, energia=120, daño=20 )\n",
    "sam=Personajes(nombre=\"sam\", clase=\"arquero\", salud=80, energia=140, daño=25 )\n",
    "\n",
    "adan.atacar(sam)\n",
    "sam.atacar(adan)"
   ]
  },
  {
   "cell_type": "markdown",
   "metadata": {},
   "source": [
    "correccion."
   ]
  },
  {
   "cell_type": "code",
   "execution_count": 35,
   "metadata": {},
   "outputs": [],
   "source": [
    "class Personaje:\n",
    "    def __init__(self, nombre, clase, salud, energia):\n",
    "        self.nombre = nombre\n",
    "        self.clase = clase\n",
    "        self.salud = salud\n",
    "        self.energia = energia\n",
    "\n",
    "    def mostrar_informacion(self):\n",
    "        return f\"Nombre: {self.nombre}, Clase: {self.clase}, Salud: {self.salud}, Energía: {self.energia}\"\n",
    "\n",
    "    def get_name(self):\n",
    "        return self.nombre\n",
    "\n",
    "    def resibir_ataque(self, cantidad_daño:int) -> int:\n",
    "        self.salud -= cantidad_daño\n",
    "        print(self.salud)\n",
    "\n",
    "\n",
    "\n",
    "class AccionesJuego:\n",
    "    @staticmethod\n",
    "    def atacar(self, objetivo:str):\n",
    "        if (self.energia > 10) and (self.salud > 0):\n",
    "            print(f\"{self.nombre} ataca a {objetivo.get_name()} con un golpe fuerte, la vida de {objetivo.get_name()} es\")\n",
    "            self.energia -= 10\n",
    "            objetivo.resibir_ataque(self.daño)\n",
    "        else:\n",
    "            print(f\"{self.nombre} no tiene suficiente energía para atacar.c\")\n"
   ]
  },
  {
   "cell_type": "code",
   "execution_count": 36,
   "metadata": {},
   "outputs": [
    {
     "name": "stdout",
     "output_type": "stream",
     "text": [
      "adan ataca a sam con un golpe fuerte, la vida de sam es\n",
      "60\n",
      "sam ataca a adan con un golpe fuerte, la vida de adan es\n",
      "75\n"
     ]
    }
   ],
   "source": [
    "adan=Personajes(nombre=\"adan\",clase=\"guerrero\", salud=100, energia=120, daño=20 )\n",
    "sam=Personajes(nombre=\"sam\", clase=\"arquero\", salud=80, energia=140, daño=25 )\n",
    "\n",
    "adan.atacar(sam)\n",
    "sam.atacar(adan)"
   ]
  },
  {
   "cell_type": "markdown",
   "metadata": {},
   "source": [
    "Ahora tenemos dos clases separadas:\n",
    "\n",
    "La clase Personaje, que se encarga únicamente de manejar la información de los personajes.\n",
    "La clase AccionesJuego, que se encarga únicamente de la lógica para realizar acciones en el juego.\n",
    "Dividir las responsabilidades de esta manera hace que el código sea más modular y cada clase tiene una única razón para cambiar. Por ejemplo, si se necesitan agregar nuevas acciones en el juego, se modificaría la clase AccionesJuego sin afectar la clase Personaje, y viceversa."
   ]
  },
  {
   "cell_type": "markdown",
   "metadata": {},
   "source": [
    "# ejemplo de principio solid resolviendo la \"o\""
   ]
  },
  {
   "cell_type": "markdown",
   "metadata": {},
   "source": [
    "En esta implementación incorrecta, la función make_animal_speak_draw() verifica explícitamente el tipo de animal para determinar qué sonido debe producir y dibujar. Esto viola el principio Open-Closed porque si queremos agregar un nuevo tipo de animal, como un mono, tendríamos que modificar la función existente para incluir una nueva comprobación de tipo, en lugar de simplemente agregar una nueva clase de animal."
   ]
  },
  {
   "cell_type": "code",
   "execution_count": 21,
   "metadata": {},
   "outputs": [
    {
     "name": "stdout",
     "output_type": "stream",
     "text": [
      "Guau\n",
      "/ \\__\n",
      "(    @\\___\n",
      "/         O\n",
      "/   (_____/\n",
      "/_____/ U\n",
      "None\n",
      "Miau\n",
      " /\\_/\\ \n",
      "( o.o )\n",
      " > ^ <\n",
      "None\n",
      " ¡HAAA\n",
      "   _ \n",
      " ('v')\n",
      "//-=-\\ \n",
      "(_____)\n",
      "None\n"
     ]
    }
   ],
   "source": [
    "# Clase base animal\n",
    "class Animal:\n",
    "    def __init__(self, name):\n",
    "        self.name = name\n",
    "\n",
    "# Perro\n",
    "class Dog(Animal):\n",
    "    def speak(self):\n",
    "        return \"¡Guau!\"\n",
    "\n",
    "# Gato\n",
    "class Cat(Animal):\n",
    "    def speak(self):\n",
    "        return \"¡Miau!\"\n",
    "\n",
    "# Pinguino\n",
    "class Birt(Animal):\n",
    "    def speak(self):\n",
    "        return \"HAAAA\"\n",
    "\n",
    "# Función para dibujar y escuchar a un animal\n",
    "def make_animal_speak_draw(animal):\n",
    "    if isinstance(animal, Dog):\n",
    "        print(\"Guau\")\n",
    "        print(  \"/ \\__\")\n",
    "        print(\"(    @\\___\")\n",
    "        print(\"/         O\")\n",
    "        print(\"/   (_____/\")\n",
    "        print(\"/_____/ U\")\n",
    "    elif isinstance(animal, Cat):\n",
    "        print(\"Miau\")\n",
    "        print(\" /\\_/\\ \")\n",
    "        print(\"( o.o )\")\n",
    "        print(\" > ^ <\")\n",
    "    elif isinstance(animal, Birt):\n",
    "        print(\" ¡HAAA\")\n",
    "        print(\"   _ \")\n",
    "        print(\" ('v')\")\n",
    "        print(\"//-=-\\ \")\n",
    "        print(\"(_____)\")\n",
    "\n",
    "dog = Dog(\"Fido\")\n",
    "cat = Cat(\"Whiskers\")\n",
    "penguin = Birt(\"Tweetie\")\n",
    "\n",
    "# Hacemos hablar a los animales\n",
    "print(make_animal_speak_draw(dog))\n",
    "print(make_animal_speak_draw(cat))\n",
    "print(make_animal_speak_draw(penguin))\n"
   ]
  },
  {
   "cell_type": "markdown",
   "metadata": {},
   "source": [
    "correccion"
   ]
  },
  {
   "cell_type": "code",
   "execution_count": 41,
   "metadata": {},
   "outputs": [
    {
     "name": "stdout",
     "output_type": "stream",
     "text": [
      "¡Guau!\n",
      "/ \\__\n",
      "(    @\\___\n",
      "/         O\n",
      "/   (_____/\n",
      "/_____/ U\n",
      "¡Miau!\n",
      " /\\_/\\ \n",
      "( o.o )\n",
      " > ^ <\n",
      "HAAAA\n",
      "   _ \n",
      " ('v')\n",
      "//-=-\\ \n",
      "(_____)\n"
     ]
    }
   ],
   "source": [
    "from abc import ABC, abstractmethod\n",
    "\n",
    "# Clase base animal\n",
    "class Animal(ABC):\n",
    "\n",
    "    def __init__(self, name):\n",
    "        self.name = name\n",
    "\n",
    "    @abstractmethod\n",
    "    def speak(self):\n",
    "        pass\n",
    "\n",
    "    @abstractmethod\n",
    "    def draw(self):\n",
    "        pass\n",
    "\n",
    "\n",
    "# Perro\n",
    "class Dog(Animal):\n",
    "\n",
    "    def speak(self):\n",
    "        print(\"¡Guau!\")\n",
    "\n",
    "    def draw(self):\n",
    "        print(  \"/ \\__\")\n",
    "        print(\"(    @\\___\")\n",
    "        print(\"/         O\")\n",
    "        print(\"/   (_____/\")\n",
    "        print(\"/_____/ U\")\n",
    "# Gato\n",
    "class Cat(Animal):\n",
    "\n",
    "    def speak(self):\n",
    "        print(\"¡Miau!\")\n",
    "\n",
    "    def draw(self):\n",
    "        print(\" /\\_/\\ \")\n",
    "        print(\"( o.o )\")\n",
    "        print(\" > ^ <\")\n",
    "\n",
    "# Pinguino\n",
    "class Birt(Animal):\n",
    "\n",
    "    def speak(self):\n",
    "        print(\"HAAAA\")\n",
    "\n",
    "    def draw(self):\n",
    "        print(\"   _ \")\n",
    "        print(\" ('v')\")\n",
    "        print(\"//-=-\\ \")\n",
    "        print(\"(_____)\")\n",
    "\n",
    "\n",
    "\n",
    "dog = Dog(\"Fido\")\n",
    "cat = Cat(\"Whiskers\")\n",
    "penguin = Birt(\"Tweetie\")\n",
    "\n",
    "dog.speak()\n",
    "dog.draw()\n",
    "\n",
    "cat.speak()\n",
    "cat.draw()\n",
    "\n",
    "penguin.speak()\n",
    "penguin.draw()\n"
   ]
  },
  {
   "cell_type": "markdown",
   "metadata": {},
   "source": [
    "En este ejemplo, la clase Animal es una clase abstracta que define un método speak(),draw(). Luego, tenemos tres clases concretas (Dog, Cat, Bird), cada una representando un tipo diferente de animal. Cada una de estas clases implementa su propio método speak(),draw() que devuelve el sonido característico del animal y su dibujo.\n",
    "\n",
    "Esto hace que no tengamos una funcion general llamada make_animal_speak_draw que va a crecer cada vez que agreguemos a un animal nuevo, tendiendo asi al error, en cambio segun lo aprendido y estudiado los problemas del \"open-close principle\" suelen resolverse con el polimorfismo haciendo que cada clase se encargue de sus propios metodos en este caso de dibujo y sonido. "
   ]
  },
  {
   "cell_type": "markdown",
   "metadata": {},
   "source": [
    "# ejemplo de principio solid resolviendo la \"i\""
   ]
  },
  {
   "cell_type": "code",
   "execution_count": null,
   "metadata": {},
   "outputs": [],
   "source": []
  }
 ],
 "metadata": {
  "kernelspec": {
   "display_name": "Python 3",
   "language": "python",
   "name": "python3"
  },
  "language_info": {
   "codemirror_mode": {
    "name": "ipython",
    "version": 3
   },
   "file_extension": ".py",
   "mimetype": "text/x-python",
   "name": "python",
   "nbconvert_exporter": "python",
   "pygments_lexer": "ipython3",
   "version": "3.10.13"
  }
 },
 "nbformat": 4,
 "nbformat_minor": 2
}
