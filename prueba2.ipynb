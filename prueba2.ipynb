{
 "cells": [
  {
   "cell_type": "markdown",
   "metadata": {},
   "source": [
    "# ejemplo de principio solid resolviendo la \"s\""
   ]
  },
  {
   "cell_type": "code",
   "execution_count": 32,
   "metadata": {},
   "outputs": [],
   "source": [
    "class Personajes:\n",
    "    def __init__(self, nombre:str, clase:str, salud:int, energia:int,daño:int):\n",
    "        self.nombre = nombre\n",
    "        self.clase = clase\n",
    "        self.salud = salud\n",
    "        self.energia = energia\n",
    "        self.daño=daño\n",
    "\n",
    "    def get_name(self):\n",
    "        return self.nombre\n",
    "\n",
    "    def resibir_ataque(self, cantidad_daño:int) -> int:\n",
    "        self.salud -= cantidad_daño\n",
    "        print(self.salud)\n",
    "\n",
    "    def mostrar_informacion(self):\n",
    "        return f\"Nombre: {self.nombre}, Clase: {self.clase}, Salud: {self.salud}, Energía: {self.energia}, Daño: {self.daño}\"\n",
    "\n",
    "    def atacar(self, objetivo:str):\n",
    "        if (self.energia > 10) and (self.salud > 0):\n",
    "            print(f\"{self.nombre} ataca a {objetivo.get_name()} con un golpe fuerte, la vida de {objetivo.get_name()} es\")\n",
    "            self.energia -= 10\n",
    "            objetivo.resibir_ataque(self.daño)\n",
    "        else:\n",
    "            print(f\"{self.nombre} no tiene suficiente energía para atacar.c\")"
   ]
  },
  {
   "cell_type": "markdown",
   "metadata": {},
   "source": [
    "En este ejemplo, la clase Personajes tiene dos responsabilidades:\n",
    "\n",
    "Manejar la información de los personajes del juego por turnos (nombre, clase, salud, energía).\n",
    "Lógica para realizar acciones en el juego, como atacar a otro personaje.\n",
    "Este diseño viola el principio de responsabilidad única porque la clase tiene más de una razón para cambiar. Si se agregan nuevas acciones o se cambian las reglas del juego, se necesitaría modificar esta clase, lo cual no es su responsabilidad principal.\n",
    "\n",
    "Una solución sería dividir estas responsabilidades en dos clases separadas: una para manejar la información de los personajes y otra para la lógica de las acciones en el juego. Esto haría que el código fuera más modular y fácil de mantener a medida que cambian los requisitos del juego."
   ]
  },
  {
   "cell_type": "code",
   "execution_count": 33,
   "metadata": {},
   "outputs": [
    {
     "name": "stdout",
     "output_type": "stream",
     "text": [
      "adan ataca a sam con un golpe fuerte, la vida de sam es\n",
      "60\n",
      "sam ataca a adan con un golpe fuerte, la vida de adan es\n",
      "75\n"
     ]
    }
   ],
   "source": [
    "adan=Personajes(nombre=\"adan\",clase=\"guerrero\", salud=100, energia=120, daño=20 )\n",
    "sam=Personajes(nombre=\"sam\", clase=\"arquero\", salud=80, energia=140, daño=25 )\n",
    "\n",
    "adan.atacar(sam)\n",
    "sam.atacar(adan)"
   ]
  },
  {
   "cell_type": "markdown",
   "metadata": {},
   "source": [
    "correccion."
   ]
  },
  {
   "cell_type": "code",
   "execution_count": 35,
   "metadata": {},
   "outputs": [],
   "source": [
    "class Personaje:\n",
    "    def __init__(self, nombre, clase, salud, energia):\n",
    "        self.nombre = nombre\n",
    "        self.clase = clase\n",
    "        self.salud = salud\n",
    "        self.energia = energia\n",
    "\n",
    "    def mostrar_informacion(self):\n",
    "        return f\"Nombre: {self.nombre}, Clase: {self.clase}, Salud: {self.salud}, Energía: {self.energia}\"\n",
    "\n",
    "    def get_name(self):\n",
    "        return self.nombre\n",
    "\n",
    "    def resibir_ataque(self, cantidad_daño:int) -> int:\n",
    "        self.salud -= cantidad_daño\n",
    "        print(self.salud)\n",
    "\n",
    "\n",
    "\n",
    "class AccionesJuego:\n",
    "    @staticmethod\n",
    "    def atacar(self, objetivo:str):\n",
    "        if (self.energia > 10) and (self.salud > 0):\n",
    "            print(f\"{self.nombre} ataca a {objetivo.get_name()} con un golpe fuerte, la vida de {objetivo.get_name()} es\")\n",
    "            self.energia -= 10\n",
    "            objetivo.resibir_ataque(self.daño)\n",
    "        else:\n",
    "            print(f\"{self.nombre} no tiene suficiente energía para atacar.c\")\n"
   ]
  },
  {
   "cell_type": "code",
   "execution_count": 36,
   "metadata": {},
   "outputs": [
    {
     "name": "stdout",
     "output_type": "stream",
     "text": [
      "adan ataca a sam con un golpe fuerte, la vida de sam es\n",
      "60\n",
      "sam ataca a adan con un golpe fuerte, la vida de adan es\n",
      "75\n"
     ]
    }
   ],
   "source": [
    "adan=Personajes(nombre=\"adan\",clase=\"guerrero\", salud=100, energia=120, daño=20 )\n",
    "sam=Personajes(nombre=\"sam\", clase=\"arquero\", salud=80, energia=140, daño=25 )\n",
    "\n",
    "adan.atacar(sam)\n",
    "sam.atacar(adan)"
   ]
  },
  {
   "cell_type": "markdown",
   "metadata": {},
   "source": [
    "Ahora tenemos dos clases separadas:\n",
    "\n",
    "La clase Personaje, que se encarga únicamente de manejar la información de los personajes.\n",
    "La clase AccionesJuego, que se encarga únicamente de la lógica para realizar acciones en el juego.\n",
    "Dividir las responsabilidades de esta manera hace que el código sea más modular y cada clase tiene una única razón para cambiar. Por ejemplo, si se necesitan agregar nuevas acciones en el juego, se modificaría la clase AccionesJuego sin afectar la clase Personaje, y viceversa."
   ]
  },
  {
   "cell_type": "markdown",
   "metadata": {},
   "source": [
    "# ejemplo de principio solid resolviendo la \"o\""
   ]
  },
  {
   "cell_type": "code",
   "execution_count": null,
   "metadata": {},
   "outputs": [],
   "source": []
  }
 ],
 "metadata": {
  "kernelspec": {
   "display_name": "Python 3",
   "language": "python",
   "name": "python3"
  },
  "language_info": {
   "codemirror_mode": {
    "name": "ipython",
    "version": 3
   },
   "file_extension": ".py",
   "mimetype": "text/x-python",
   "name": "python",
   "nbconvert_exporter": "python",
   "pygments_lexer": "ipython3",
   "version": "3.10.13"
  }
 },
 "nbformat": 4,
 "nbformat_minor": 2
}
