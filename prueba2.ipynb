{
 "cells": [
  {
   "cell_type": "markdown",
   "metadata": {},
   "source": [
    "# ejemplo de principio solid resolviendo la \"s\""
   ]
  },
  {
   "cell_type": "code",
   "execution_count": 30,
   "metadata": {},
   "outputs": [],
   "source": [
    "class Personajes:\n",
    "    def __init__(self, nombre:str, clase:str, salud:int, energia:int,daño:int):\n",
    "        self.nombre = nombre\n",
    "        self.clase = clase\n",
    "        self.salud = salud\n",
    "        self.energia = energia\n",
    "        self.daño=daño\n",
    "\n",
    "    def get_name(self) -> str:\n",
    "        return self.nombre\n",
    "\n",
    "    def get_salud(self) -> int:\n",
    "        return self.salud\n",
    "\n",
    "    def mostrar_informacion(self):\n",
    "        return f\"Nombre: {self.nombre}, Clase: {self.clase}, Salud: {self.salud}, Energía: {self.energia}, Daño: {self.daño}\"\n",
    "\n",
    "    def atacar(self, objetivo:str):\n",
    "        if (self.energia > 10) and (self.salud > 0):\n",
    "            print(f\"{self.nombre} ataca a {objetivo} con un golpe fuerte.\")\n",
    "            self.energia -= 10\n",
    "            daño_realizado= objetivo.get_salud()-self.daño\n",
    "        else:\n",
    "            print(f\"{self.nombre} no tiene suficiente energía para atacar.c\")"
   ]
  },
  {
   "cell_type": "markdown",
   "metadata": {},
   "source": [
    "En este ejemplo, la clase Personajes tiene dos responsabilidades:\n",
    "\n",
    "Manejar la información de los personajes del juego por turnos (nombre, clase, salud, energía).\n",
    "Lógica para realizar acciones en el juego, como atacar a otro personaje.\n",
    "Este diseño viola el principio de responsabilidad única porque la clase tiene más de una razón para cambiar. Si se agregan nuevas acciones o se cambian las reglas del juego, se necesitaría modificar esta clase, lo cual no es su responsabilidad principal.\n",
    "\n",
    "Una solución sería dividir estas responsabilidades en dos clases separadas: una para manejar la información de los personajes y otra para la lógica de las acciones en el juego. Esto haría que el código fuera más modular y fácil de mantener a medida que cambian los requisitos del juego."
   ]
  },
  {
   "cell_type": "code",
   "execution_count": 31,
   "metadata": {},
   "outputs": [
    {
     "ename": "TypeError",
     "evalue": "'>' not supported between instances of 'str' and 'int'",
     "output_type": "error",
     "traceback": [
      "\u001b[0;31m---------------------------------------------------------------------------\u001b[0m",
      "\u001b[0;31mTypeError\u001b[0m                                 Traceback (most recent call last)",
      "Cell \u001b[0;32mIn[31], line 4\u001b[0m\n\u001b[1;32m      1\u001b[0m personaje1\u001b[38;5;241m=\u001b[39mPersonajes(nombre\u001b[38;5;241m=\u001b[39m\u001b[38;5;124m\"\u001b[39m\u001b[38;5;124madan\u001b[39m\u001b[38;5;124m\"\u001b[39m,clase\u001b[38;5;241m=\u001b[39m\u001b[38;5;124m\"\u001b[39m\u001b[38;5;124mguerrero\u001b[39m\u001b[38;5;124m\"\u001b[39m, salud\u001b[38;5;241m=\u001b[39m\u001b[38;5;241m100\u001b[39m, energia\u001b[38;5;241m=\u001b[39m\u001b[38;5;241m120\u001b[39m, daño\u001b[38;5;241m=\u001b[39m\u001b[38;5;241m20\u001b[39m )\n\u001b[1;32m      2\u001b[0m personaje2\u001b[38;5;241m=\u001b[39mPersonajes(nombre\u001b[38;5;241m=\u001b[39m\u001b[38;5;124m\"\u001b[39m\u001b[38;5;124msam\u001b[39m\u001b[38;5;124m\"\u001b[39m, clase\u001b[38;5;241m=\u001b[39m\u001b[38;5;124m\"\u001b[39m\u001b[38;5;124marquero\u001b[39m\u001b[38;5;124m\"\u001b[39m, salud\u001b[38;5;241m=\u001b[39m\u001b[38;5;124m\"\u001b[39m\u001b[38;5;124m80\u001b[39m\u001b[38;5;124m\"\u001b[39m, energia\u001b[38;5;241m=\u001b[39m\u001b[38;5;241m140\u001b[39m, daño\u001b[38;5;241m=\u001b[39m\u001b[38;5;241m25\u001b[39m )\n\u001b[0;32m----> 4\u001b[0m \u001b[43mpersonaje2\u001b[49m\u001b[38;5;241;43m.\u001b[39;49m\u001b[43matacar\u001b[49m\u001b[43m(\u001b[49m\u001b[43mpersonaje1\u001b[49m\u001b[38;5;241;43m.\u001b[39;49m\u001b[43mget_name\u001b[49m\u001b[43m(\u001b[49m\u001b[43m)\u001b[49m\u001b[43m)\u001b[49m\n\u001b[1;32m      5\u001b[0m personaje1\u001b[38;5;241m.\u001b[39matacar(personaje2\u001b[38;5;241m.\u001b[39mget_name())\n",
      "Cell \u001b[0;32mIn[30], line 19\u001b[0m, in \u001b[0;36mPersonajes.atacar\u001b[0;34m(self, objetivo)\u001b[0m\n\u001b[1;32m     18\u001b[0m \u001b[38;5;28;01mdef\u001b[39;00m \u001b[38;5;21matacar\u001b[39m(\u001b[38;5;28mself\u001b[39m, objetivo:\u001b[38;5;28mstr\u001b[39m):\n\u001b[0;32m---> 19\u001b[0m     \u001b[38;5;28;01mif\u001b[39;00m (\u001b[38;5;28mself\u001b[39m\u001b[38;5;241m.\u001b[39menergia \u001b[38;5;241m>\u001b[39m \u001b[38;5;241m10\u001b[39m) \u001b[38;5;129;01mand\u001b[39;00m (\u001b[38;5;28;43mself\u001b[39;49m\u001b[38;5;241;43m.\u001b[39;49m\u001b[43msalud\u001b[49m\u001b[43m \u001b[49m\u001b[38;5;241;43m>\u001b[39;49m\u001b[43m \u001b[49m\u001b[38;5;241;43m0\u001b[39;49m):\n\u001b[1;32m     20\u001b[0m         \u001b[38;5;28mprint\u001b[39m(\u001b[38;5;124mf\u001b[39m\u001b[38;5;124m\"\u001b[39m\u001b[38;5;132;01m{\u001b[39;00m\u001b[38;5;28mself\u001b[39m\u001b[38;5;241m.\u001b[39mnombre\u001b[38;5;132;01m}\u001b[39;00m\u001b[38;5;124m ataca a \u001b[39m\u001b[38;5;132;01m{\u001b[39;00mobjetivo\u001b[38;5;132;01m}\u001b[39;00m\u001b[38;5;124m con un golpe fuerte.\u001b[39m\u001b[38;5;124m\"\u001b[39m)\n\u001b[1;32m     21\u001b[0m         \u001b[38;5;28mself\u001b[39m\u001b[38;5;241m.\u001b[39menergia \u001b[38;5;241m-\u001b[39m\u001b[38;5;241m=\u001b[39m \u001b[38;5;241m10\u001b[39m\n",
      "\u001b[0;31mTypeError\u001b[0m: '>' not supported between instances of 'str' and 'int'"
     ]
    }
   ],
   "source": [
    "personaje1=Personajes(nombre=\"adan\",clase=\"guerrero\", salud=100, energia=120, daño=20 )\n",
    "personaje2=Personajes(nombre=\"sam\", clase=\"arquero\", salud=\"80\", energia=140, daño=25 )\n",
    "\n",
    "personaje2.atacar(personaje1.get_name())\n",
    "personaje1.atacar(personaje2.get_name())"
   ]
  },
  {
   "cell_type": "code",
   "execution_count": null,
   "metadata": {},
   "outputs": [],
   "source": [
    "class Personaje:\n",
    "    def __init__(self, nombre, clase, salud, energia):\n",
    "        self.nombre = nombre\n",
    "        self.clase = clase\n",
    "        self.salud = salud\n",
    "        self.energia = energia\n",
    "\n",
    "    def mostrar_informacion(self):\n",
    "        return f\"Nombre: {self.nombre}, Clase: {self.clase}, Salud: {self.salud}, Energía: {self.energia}\"\n",
    "\n",
    "\n",
    "class AccionesJuego:\n",
    "    @staticmethod\n",
    "    def atacar(atacante, objetivo):\n",
    "        if atacante.energia >= 10:\n",
    "            print(f\"{atacante.nombre} ataca a {objetivo.nombre} con un golpe fuerte.\")\n",
    "            atacante.energia -= 10\n",
    "        else:\n",
    "            print(f\"{atacante.nombre} no tiene suficiente energía para atacar.\")\n"
   ]
  },
  {
   "cell_type": "markdown",
   "metadata": {},
   "source": [
    "Ahora tenemos dos clases separadas:\n",
    "\n",
    "La clase Personaje, que se encarga únicamente de manejar la información de los personajes.\n",
    "La clase AccionesJuego, que se encarga únicamente de la lógica para realizar acciones en el juego.\n",
    "Dividir las responsabilidades de esta manera hace que el código sea más modular y cada clase tiene una única razón para cambiar. Por ejemplo, si se necesitan agregar nuevas acciones en el juego, se modificaría la clase AccionesJuego sin afectar la clase Personaje, y viceversa."
   ]
  }
 ],
 "metadata": {
  "kernelspec": {
   "display_name": "Python 3",
   "language": "python",
   "name": "python3"
  },
  "language_info": {
   "codemirror_mode": {
    "name": "ipython",
    "version": 3
   },
   "file_extension": ".py",
   "mimetype": "text/x-python",
   "name": "python",
   "nbconvert_exporter": "python",
   "pygments_lexer": "ipython3",
   "version": "3.10.13"
  }
 },
 "nbformat": 4,
 "nbformat_minor": 2
}
