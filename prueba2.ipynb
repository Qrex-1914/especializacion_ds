{
 "cells": [
  {
   "cell_type": "markdown",
   "metadata": {},
   "source": [
    "# ejemplo de principio solid resolviendo la \"s\""
   ]
  },
  {
   "cell_type": "code",
   "execution_count": 32,
   "metadata": {},
   "outputs": [],
   "source": [
    "class Personajes:\n",
    "    def __init__(self, nombre:str, clase:str, salud:int, energia:int,daño:int):\n",
    "        self.nombre = nombre\n",
    "        self.clase = clase\n",
    "        self.salud = salud\n",
    "        self.energia = energia\n",
    "        self.daño=daño\n",
    "\n",
    "    def get_name(self):\n",
    "        return self.nombre\n",
    "\n",
    "    def resibir_ataque(self, cantidad_daño:int) -> int:\n",
    "        self.salud -= cantidad_daño\n",
    "        print(self.salud)\n",
    "\n",
    "    def mostrar_informacion(self):\n",
    "        return f\"Nombre: {self.nombre}, Clase: {self.clase}, Salud: {self.salud}, Energía: {self.energia}, Daño: {self.daño}\"\n",
    "\n",
    "    def atacar(self, objetivo:str):\n",
    "        if (self.energia > 10) and (self.salud > 0):\n",
    "            print(f\"{self.nombre} ataca a {objetivo.get_name()} con un golpe fuerte, la vida de {objetivo.get_name()} es\")\n",
    "            self.energia -= 10\n",
    "            objetivo.resibir_ataque(self.daño)\n",
    "        else:\n",
    "            print(f\"{self.nombre} no tiene suficiente energía para atacar.c\")"
   ]
  },
  {
   "cell_type": "markdown",
   "metadata": {},
   "source": [
    "En este ejemplo, la clase Personajes tiene dos responsabilidades:\n",
    "\n",
    "Manejar la información de los personajes del juego por turnos (nombre, clase, salud, energía).\n",
    "Lógica para realizar acciones en el juego, como atacar a otro personaje.\n",
    "Este diseño viola el principio de responsabilidad única porque la clase tiene más de una razón para cambiar. Si se agregan nuevas acciones o se cambian las reglas del juego, se necesitaría modificar esta clase, lo cual no es su responsabilidad principal.\n",
    "\n",
    "Una solución sería dividir estas responsabilidades en dos clases separadas: una para manejar la información de los personajes y otra para la lógica de las acciones en el juego. Esto haría que el código fuera más modular y fácil de mantener a medida que cambian los requisitos del juego."
   ]
  },
  {
   "cell_type": "code",
   "execution_count": 33,
   "metadata": {},
   "outputs": [
    {
     "name": "stdout",
     "output_type": "stream",
     "text": [
      "adan ataca a sam con un golpe fuerte, la vida de sam es\n",
      "60\n",
      "sam ataca a adan con un golpe fuerte, la vida de adan es\n",
      "75\n"
     ]
    }
   ],
   "source": [
    "adan=Personajes(nombre=\"adan\",clase=\"guerrero\", salud=100, energia=120, daño=20 )\n",
    "sam=Personajes(nombre=\"sam\", clase=\"arquero\", salud=80, energia=140, daño=25 )\n",
    "\n",
    "adan.atacar(sam)\n",
    "sam.atacar(adan)"
   ]
  },
  {
   "cell_type": "markdown",
   "metadata": {},
   "source": [
    "correccion."
   ]
  },
  {
   "cell_type": "code",
   "execution_count": 35,
   "metadata": {},
   "outputs": [],
   "source": [
    "class Personaje:\n",
    "    def __init__(self, nombre, clase, salud, energia):\n",
    "        self.nombre = nombre\n",
    "        self.clase = clase\n",
    "        self.salud = salud\n",
    "        self.energia = energia\n",
    "\n",
    "    def mostrar_informacion(self):\n",
    "        return f\"Nombre: {self.nombre}, Clase: {self.clase}, Salud: {self.salud}, Energía: {self.energia}\"\n",
    "\n",
    "    def get_name(self):\n",
    "        return self.nombre\n",
    "\n",
    "    def resibir_ataque(self, cantidad_daño:int) -> int:\n",
    "        self.salud -= cantidad_daño\n",
    "        print(self.salud)\n",
    "\n",
    "\n",
    "\n",
    "class AccionesJuego:\n",
    "    @staticmethod\n",
    "    def atacar(self, objetivo:str):\n",
    "        if (self.energia > 10) and (self.salud > 0):\n",
    "            print(f\"{self.nombre} ataca a {objetivo.get_name()} con un golpe fuerte, la vida de {objetivo.get_name()} es\")\n",
    "            self.energia -= 10\n",
    "            objetivo.resibir_ataque(self.daño)\n",
    "        else:\n",
    "            print(f\"{self.nombre} no tiene suficiente energía para atacar.c\")\n"
   ]
  },
  {
   "cell_type": "code",
   "execution_count": 36,
   "metadata": {},
   "outputs": [
    {
     "name": "stdout",
     "output_type": "stream",
     "text": [
      "adan ataca a sam con un golpe fuerte, la vida de sam es\n",
      "60\n",
      "sam ataca a adan con un golpe fuerte, la vida de adan es\n",
      "75\n"
     ]
    }
   ],
   "source": [
    "adan=Personajes(nombre=\"adan\",clase=\"guerrero\", salud=100, energia=120, daño=20 )\n",
    "sam=Personajes(nombre=\"sam\", clase=\"arquero\", salud=80, energia=140, daño=25 )\n",
    "\n",
    "adan.atacar(sam)\n",
    "sam.atacar(adan)"
   ]
  },
  {
   "cell_type": "markdown",
   "metadata": {},
   "source": [
    "Ahora tenemos dos clases separadas:\n",
    "\n",
    "La clase Personaje, que se encarga únicamente de manejar la información de los personajes.\n",
    "La clase AccionesJuego, que se encarga únicamente de la lógica para realizar acciones en el juego.\n",
    "Dividir las responsabilidades de esta manera hace que el código sea más modular y cada clase tiene una única razón para cambiar. Por ejemplo, si se necesitan agregar nuevas acciones en el juego, se modificaría la clase AccionesJuego sin afectar la clase Personaje, y viceversa."
   ]
  },
  {
   "cell_type": "markdown",
   "metadata": {},
   "source": [
    "# ejemplo de principio solid resolviendo la \"O\""
   ]
  },
  {
   "cell_type": "markdown",
   "metadata": {},
   "source": [
    "En esta implementación incorrecta, la función make_animal_speak_draw() verifica explícitamente el tipo de animal para determinar qué sonido debe producir y dibujar. Esto viola el principio Open-Closed porque si queremos agregar un nuevo tipo de animal, como un mono, tendríamos que modificar la función existente para incluir una nueva comprobación de tipo, en lugar de simplemente agregar una nueva clase de animal."
   ]
  },
  {
   "cell_type": "code",
   "execution_count": 21,
   "metadata": {},
   "outputs": [
    {
     "name": "stdout",
     "output_type": "stream",
     "text": [
      "Guau\n",
      "/ \\__\n",
      "(    @\\___\n",
      "/         O\n",
      "/   (_____/\n",
      "/_____/ U\n",
      "None\n",
      "Miau\n",
      " /\\_/\\ \n",
      "( o.o )\n",
      " > ^ <\n",
      "None\n",
      " ¡HAAA\n",
      "   _ \n",
      " ('v')\n",
      "//-=-\\ \n",
      "(_____)\n",
      "None\n"
     ]
    }
   ],
   "source": [
    "# Clase base animal\n",
    "class Animal:\n",
    "    def __init__(self, name):\n",
    "        self.name = name\n",
    "\n",
    "# Perro\n",
    "class Dog(Animal):\n",
    "    def speak(self):\n",
    "        return \"¡Guau!\"\n",
    "\n",
    "# Gato\n",
    "class Cat(Animal):\n",
    "    def speak(self):\n",
    "        return \"¡Miau!\"\n",
    "\n",
    "# Pinguino\n",
    "class Birt(Animal):\n",
    "    def speak(self):\n",
    "        return \"HAAAA\"\n",
    "\n",
    "# Función para dibujar y escuchar a un animal\n",
    "def make_animal_speak_draw(animal):\n",
    "    if isinstance(animal, Dog):\n",
    "        print(\"Guau\")\n",
    "        print(  \"/ \\__\")\n",
    "        print(\"(    @\\___\")\n",
    "        print(\"/         O\")\n",
    "        print(\"/   (_____/\")\n",
    "        print(\"/_____/ U\")\n",
    "    elif isinstance(animal, Cat):\n",
    "        print(\"Miau\")\n",
    "        print(\" /\\_/\\ \")\n",
    "        print(\"( o.o )\")\n",
    "        print(\" > ^ <\")\n",
    "    elif isinstance(animal, Birt):\n",
    "        print(\" ¡HAAA\")\n",
    "        print(\"   _ \")\n",
    "        print(\" ('v')\")\n",
    "        print(\"//-=-\\ \")\n",
    "        print(\"(_____)\")\n",
    "\n",
    "dog = Dog(\"Fido\")\n",
    "cat = Cat(\"Whiskers\")\n",
    "penguin = Birt(\"Tweetie\")\n",
    "\n",
    "# Hacemos hablar a los animales\n",
    "print(make_animal_speak_draw(dog))\n",
    "print(make_animal_speak_draw(cat))\n",
    "print(make_animal_speak_draw(penguin))\n"
   ]
  },
  {
   "cell_type": "markdown",
   "metadata": {},
   "source": [
    "correccion"
   ]
  },
  {
   "cell_type": "code",
   "execution_count": 41,
   "metadata": {},
   "outputs": [
    {
     "name": "stdout",
     "output_type": "stream",
     "text": [
      "¡Guau!\n",
      "/ \\__\n",
      "(    @\\___\n",
      "/         O\n",
      "/   (_____/\n",
      "/_____/ U\n",
      "¡Miau!\n",
      " /\\_/\\ \n",
      "( o.o )\n",
      " > ^ <\n",
      "HAAAA\n",
      "   _ \n",
      " ('v')\n",
      "//-=-\\ \n",
      "(_____)\n"
     ]
    }
   ],
   "source": [
    "from abc import ABC, abstractmethod\n",
    "\n",
    "# Clase base animal\n",
    "class Animal(ABC):\n",
    "\n",
    "    def __init__(self, name):\n",
    "        self.name = name\n",
    "\n",
    "    @abstractmethod\n",
    "    def speak(self):\n",
    "        pass\n",
    "\n",
    "    @abstractmethod\n",
    "    def draw(self):\n",
    "        pass\n",
    "\n",
    "\n",
    "# Perro\n",
    "class Dog(Animal):\n",
    "\n",
    "    def speak(self):\n",
    "        print(\"¡Guau!\")\n",
    "\n",
    "    def draw(self):\n",
    "        print(  \"/ \\__\")\n",
    "        print(\"(    @\\___\")\n",
    "        print(\"/         O\")\n",
    "        print(\"/   (_____/\")\n",
    "        print(\"/_____/ U\")\n",
    "# Gato\n",
    "class Cat(Animal):\n",
    "\n",
    "    def speak(self):\n",
    "        print(\"¡Miau!\")\n",
    "\n",
    "    def draw(self):\n",
    "        print(\" /\\_/\\ \")\n",
    "        print(\"( o.o )\")\n",
    "        print(\" > ^ <\")\n",
    "\n",
    "# Pinguino\n",
    "class Birt(Animal):\n",
    "\n",
    "    def speak(self):\n",
    "        print(\"HAAAA\")\n",
    "\n",
    "    def draw(self):\n",
    "        print(\"   _ \")\n",
    "        print(\" ('v')\")\n",
    "        print(\"//-=-\\ \")\n",
    "        print(\"(_____)\")\n",
    "\n",
    "\n",
    "\n",
    "dog = Dog(\"Fido\")\n",
    "cat = Cat(\"Whiskers\")\n",
    "penguin = Birt(\"Tweetie\")\n",
    "\n",
    "dog.speak()\n",
    "dog.draw()\n",
    "\n",
    "cat.speak()\n",
    "cat.draw()\n",
    "\n",
    "penguin.speak()\n",
    "penguin.draw()\n"
   ]
  },
  {
   "cell_type": "markdown",
   "metadata": {},
   "source": [
    "En este ejemplo, la clase Animal es una clase abstracta que define un método speak(),draw(). Luego, tenemos tres clases concretas (Dog, Cat, Bird), cada una representando un tipo diferente de animal. Cada una de estas clases implementa su propio método speak(),draw() que devuelve el sonido característico del animal y su dibujo.\n",
    "\n",
    "Esto hace que no tengamos una funcion general llamada make_animal_speak_draw que va a crecer cada vez que agreguemos a un animal nuevo, tendiendo asi al error, en cambio segun lo aprendido y estudiado los problemas del \"open-close principle\" suelen resolverse con el polimorfismo haciendo que cada clase se encargue de sus propios metodos en este caso de dibujo y sonido. "
   ]
  },
  {
   "cell_type": "markdown",
   "metadata": {},
   "source": [
    "# ejemplo de principio solid resolviendo la \"I\""
   ]
  },
  {
   "cell_type": "markdown",
   "metadata": {},
   "source": [
    "En este ejemplo, Machine es una interfaz que define dos métodos: print_document y scan_document. Luego, tenemos dos clases que implementan esta interfaz: MultiFunctionDevice y OldPrinter. Sin embargo, OldPrinter solo necesita implementar print_document, pero como hereda de Machine, también debe proporcionar una implementación para scan_document, que no tiene sentido en el contexto de una impresora antigua."
   ]
  },
  {
   "cell_type": "code",
   "execution_count": 61,
   "metadata": {},
   "outputs": [
    {
     "ename": "TypeError",
     "evalue": "Can't instantiate abstract class OldPrinter with abstract method scan_document",
     "output_type": "error",
     "traceback": [
      "\u001b[0;31m---------------------------------------------------------------------------\u001b[0m",
      "\u001b[0;31mTypeError\u001b[0m                                 Traceback (most recent call last)",
      "Cell \u001b[0;32mIn[61], line 26\u001b[0m\n\u001b[1;32m     23\u001b[0m         \u001b[38;5;28mprint\u001b[39m(\u001b[38;5;124mf\u001b[39m\u001b[38;5;124m\"\u001b[39m\u001b[38;5;124mImprimiendo documento\u001b[39m\u001b[38;5;124m\"\u001b[39m)\n\u001b[1;32m     25\u001b[0m maxpro500\u001b[38;5;241m=\u001b[39m MultiFunctionDevice()\n\u001b[0;32m---> 26\u001b[0m max05\u001b[38;5;241m=\u001b[39m\u001b[43mOldPrinter\u001b[49m\u001b[43m(\u001b[49m\u001b[43m)\u001b[49m\n",
      "\u001b[0;31mTypeError\u001b[0m: Can't instantiate abstract class OldPrinter with abstract method scan_document"
     ]
    }
   ],
   "source": [
    "from abc import ABC, abstractmethod\n",
    "\n",
    "class Machine(ABC):\n",
    "\n",
    "    def print_document(self):\n",
    "        pass\n",
    "\n",
    "    @abstractmethod\n",
    "    def scan_document(self):\n",
    "        pass\n",
    "\n",
    "class MultiFunctionDevice(Machine):\n",
    "\n",
    "    def print_document(self):\n",
    "        print(\"Imprimiendo documento\")\n",
    "\n",
    "    def scan_document(self):\n",
    "        print(\"Escaneando documento\")\n",
    "\n",
    "class OldPrinter(Machine):\n",
    "\n",
    "    def print_document(self):\n",
    "        print(f\"Imprimiendo documento\")\n",
    "\n",
    "maxpro500= MultiFunctionDevice()\n",
    "max05=OldPrinter()\n",
    "\n",
    "\n"
   ]
  },
  {
   "cell_type": "markdown",
   "metadata": {},
   "source": [
    "correccion"
   ]
  },
  {
   "cell_type": "code",
   "execution_count": 65,
   "metadata": {},
   "outputs": [
    {
     "name": "stdout",
     "output_type": "stream",
     "text": [
      "Imprimiendo documento en maquina vieja\n"
     ]
    }
   ],
   "source": [
    "from abc import ABC, abstractmethod\n",
    "\n",
    "class Pinter(ABC):\n",
    "    @abstractmethod\n",
    "    def print_document(self):\n",
    "        pass\n",
    "\n",
    "class Scanner(ABC):\n",
    "    @abstractmethod\n",
    "    def scan_document(self):\n",
    "        pass\n",
    "\n",
    "class MultiFunctionDevice(Pinter,Scanner):\n",
    "\n",
    "    def print_document(self):\n",
    "        print(\"Imprimiendo documento en maquina vieja\")\n",
    "\n",
    "    def scan_document(self):\n",
    "        print(\"Escaneando documento en maquina nueva\")\n",
    "\n",
    "class OldPrinter(Pinter):\n",
    "\n",
    "    def print_document(self):\n",
    "        print(f\"Imprimiendo documento en maquina vieja\")\n",
    "\n",
    "maxpro500= MultiFunctionDevice()\n",
    "max05=OldPrinter()\n",
    "\n",
    "max05.print_document()"
   ]
  },
  {
   "cell_type": "markdown",
   "metadata": {},
   "source": [
    "En este caso, hemos segregado las interfaces Printer y Scanner, cada una con un único método relacionado con su función específica. Luego, MultiFunctionDevice implementa ambas interfaces, ya que es una combinación de impresora y escáner. OldPrinter, que es una impresora antigua que no puede escanear, implementa solo la interfaz Printer, lo que garantiza que no haya dependencias innecesarias. "
   ]
  },
  {
   "cell_type": "markdown",
   "metadata": {},
   "source": [
    "# ejemplo de principio solid resolviendo la \"D\""
   ]
  },
  {
   "cell_type": "code",
   "execution_count": 66,
   "metadata": {},
   "outputs": [
    {
     "name": "stdout",
     "output_type": "stream",
     "text": [
      "¡El guerrero ataca con su espada!\n"
     ]
    }
   ],
   "source": [
    "class Character:\n",
    "    def attack(self):\n",
    "        pass\n",
    "\n",
    "class Warrior(Character):\n",
    "    def attack(self):\n",
    "        return \"¡El guerrero ataca con su espada!\"\n",
    "\n",
    "class Mage(Character):\n",
    "    def attack(self):\n",
    "        return \"¡El mago lanza una bola de fuego!\"\n",
    "\n",
    "class TurnBasedGame:\n",
    "    def __init__(self):\n",
    "        self.current_character = Warrior()\n",
    "\n",
    "    def perform_action(self):\n",
    "        return self.current_character.attack()\n",
    "\n",
    "game = TurnBasedGame()\n",
    "print(game.perform_action())"
   ]
  },
  {
   "cell_type": "markdown",
   "metadata": {},
   "source": [
    "En este ejemplo, la clase TurnBasedGame depende directamente de la clase Warrior (una dependencia de bajo nivel). Esto viola el principio de inversión de dependencias, ya que TurnBasedGame debería depender de abstracciones en lugar de clases concretas. Si quisiéramos cambiar el personaje actual a un mago, tendríamos que modificar la clase TurnBasedGame."
   ]
  },
  {
   "cell_type": "code",
   "execution_count": 67,
   "metadata": {},
   "outputs": [
    {
     "name": "stdout",
     "output_type": "stream",
     "text": [
      "¡El guerrero ataca con su espada!\n",
      "¡El mago lanza una bola de fuego!\n"
     ]
    }
   ],
   "source": [
    "class Character:\n",
    "    def attack(self):\n",
    "        pass\n",
    "\n",
    "class Warrior(Character):\n",
    "    def attack(self):\n",
    "        return \"¡El guerrero ataca con su espada!\"\n",
    "\n",
    "class Mage(Character):\n",
    "    def attack(self):\n",
    "        return \"¡El mago lanza una bola de fuego!\"\n",
    "\n",
    "class TurnBasedGame:\n",
    "    def __init__(self, character):\n",
    "        self.current_character = character\n",
    "\n",
    "    def perform_action(self):\n",
    "        return self.current_character.attack()\n",
    "\n",
    "game = TurnBasedGame(Warrior())\n",
    "print(game.perform_action())\n",
    "\n",
    "game.current_character = Mage()\n",
    "print(game.perform_action())"
   ]
  },
  {
   "cell_type": "markdown",
   "metadata": {},
   "source": [
    " podemos introducir una abstracción como una interfaz o una clase base Character y hacer que tanto Warrior como Mage dependan de esta abstracción. Luego, TurnBasedGame puede depender de la abstracción Character en lugar de las clases concretas Warrior o Mage, esto para poder cambiar de personaje por ejemplo sin modificar la funcion TurnBasedGame, en otras palabras ya no depende de una clase de bajo nivel sino de una clase abstracta o de ayuda"
   ]
  }
 ],
 "metadata": {
  "kernelspec": {
   "display_name": "Python 3",
   "language": "python",
   "name": "python3"
  },
  "language_info": {
   "codemirror_mode": {
    "name": "ipython",
    "version": 3
   },
   "file_extension": ".py",
   "mimetype": "text/x-python",
   "name": "python",
   "nbconvert_exporter": "python",
   "pygments_lexer": "ipython3",
   "version": "3.10.13"
  }
 },
 "nbformat": 4,
 "nbformat_minor": 2
}
